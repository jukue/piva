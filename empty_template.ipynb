{
 "cells": [
  {
   "cell_type": "code",
   "execution_count": 1,
   "id": "literary-military",
   "metadata": {},
   "outputs": [],
   "source": [
    "# Kevin's and mine stuff\n",
    "import data_loader as dl\n",
    "import arpys_wp as wp\n",
    "import jis\n",
    "# general python shit\n",
    "import numpy as np\n",
    "from importlib import reload as rl\n",
    "from scipy import optimize as opt\n",
    "from os import listdir\n",
    "# for plotting\n",
    "import matplotlib as mpl\n",
    "from matplotlib import interactive\n",
    "from matplotlib import pyplot as plt\n",
    "from matplotlib import colors\n",
    "# change some default values\n",
    "wp.set_mpl_rcparams(print_params=False)\n",
    "\n",
    "# %matplotlib widget"
   ]
  },
  {
   "cell_type": "code",
   "execution_count": 16,
   "id": "spectacular-course",
   "metadata": {},
   "outputs": [],
   "source": [
    "# read the data and some metadata from files\n",
    "bms = []\n",
    "data = []\n",
    "ergs = []\n",
    "ks = []\n",
    "fnames=[]\n",
    "# path = '/Users/kaskadermike/switchdrive/VxTaS2/Au/'\n",
    "path = 'C:/Users/pudelko_w/switchdrive/switchdrive/VxTaS2/nov2021_sis/V2_1/'\n",
    "for idx, file in enumerate(listdir(path)):\n",
    "    if file.startswith('G-M'):\n",
    "        bms.append(dl.load_pickle((path + file)))\n",
    "        data.append(bms[-1].data[0, :, :])\n",
    "        ergs.append(bms[-1].yscale)\n",
    "        ks.append(bms[-1].xscale)\n",
    "        fnames.append(file)"
   ]
  },
  {
   "cell_type": "code",
   "execution_count": 10,
   "id": "computational-olive",
   "metadata": {},
   "outputs": [
    {
     "name": "stdout",
     "output_type": "stream",
     "text": [
      "(121, 668, 201)\n"
     ]
    }
   ],
   "source": [
    "fname = '/Users/kaskadermike/ARPES_data/VxTaS2/nov2021_max-iv/V10029.zip'\n",
    "data = dl.load_data(fname)\n",
    "print(data.data.shape)"
   ]
  },
  {
   "cell_type": "code",
   "execution_count": 9,
   "id": "fa681cb5",
   "metadata": {},
   "outputs": [],
   "source": [
    "normalizeed = wp.normalize(data.data)"
   ]
  },
  {
   "cell_type": "code",
   "execution_count": 30,
   "id": "dominant-breathing",
   "metadata": {
    "collapsed": true
   },
   "outputs": [
    {
     "name": "stdout",
     "output_type": "stream",
     "text": [
      "bmaps: 0 \t1 0\n",
      "bmaps: 1 \t1 1\n",
      "bmaps: 2 \t1 2\n",
      "bmaps: 3 \t1 3\n",
      "bmaps: 4 \t2 2\n",
      "bmaps: 5 \t2 3\n",
      "bmaps: 6 \t2 3\n",
      "bmaps: 7 \t2 4\n",
      "bmaps: 8 \t2 4\n",
      "bmaps: 9 \t3 3\n",
      "bmaps: 10 \t3 4\n",
      "bmaps: 11 \t3 4\n",
      "bmaps: 12 \t3 4\n",
      "bmaps: 13 \tFunction works up to 12 files so far\n"
     ]
    }
   ],
   "source": [
    "# plot and fit all measured scans, EDCs summed over all chanels\n",
    "rl(wp)\n",
    "for idx in range(14):\n",
    "    print('bmaps: {} \\t'.format(idx), end='')\n",
    "    wp.plot_n_bandmaps(idx)"
   ]
  },
  {
   "cell_type": "code",
   "execution_count": null,
   "id": "eleven-roberts",
   "metadata": {},
   "outputs": [],
   "source": []
  }
 ],
 "metadata": {
  "kernelspec": {
   "display_name": "Python 3 (ipykernel)",
   "language": "python",
   "name": "python3"
  },
  "language_info": {
   "codemirror_mode": {
    "name": "ipython",
    "version": 3
   },
   "file_extension": ".py",
   "mimetype": "text/x-python",
   "name": "python",
   "nbconvert_exporter": "python",
   "pygments_lexer": "ipython3",
   "version": "3.7.5"
  },
  "varInspector": {
   "cols": {
    "lenName": 16,
    "lenType": 16,
    "lenVar": 40
   },
   "kernels_config": {
    "python": {
     "delete_cmd_postfix": "",
     "delete_cmd_prefix": "del ",
     "library": "var_list.py",
     "varRefreshCmd": "print(var_dic_list())"
    },
    "r": {
     "delete_cmd_postfix": ") ",
     "delete_cmd_prefix": "rm(",
     "library": "var_list.r",
     "varRefreshCmd": "cat(var_dic_list()) "
    }
   },
   "types_to_exclude": [
    "module",
    "function",
    "builtin_function_or_method",
    "instance",
    "_Feature"
   ],
   "window_display": false
  }
 },
 "nbformat": 4,
 "nbformat_minor": 5
}
